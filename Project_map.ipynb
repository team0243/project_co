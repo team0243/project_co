{
  "nbformat": 4,
  "nbformat_minor": 0,
  "metadata": {
    "colab": {
      "private_outputs": true,
      "provenance": [],
      "authorship_tag": "ABX9TyPvoRpecEBtwN8d33vEbbOT",
      "include_colab_link": true
    },
    "kernelspec": {
      "name": "python3",
      "display_name": "Python 3"
    },
    "language_info": {
      "name": "python"
    }
  },
  "cells": [
    {
      "cell_type": "markdown",
      "metadata": {
        "id": "view-in-github",
        "colab_type": "text"
      },
      "source": [
        "<a href=\"https://colab.research.google.com/github/team0243/project_co/blob/main/Project_map.ipynb\" target=\"_parent\"><img src=\"https://colab.research.google.com/assets/colab-badge.svg\" alt=\"Open In Colab\"/></a>"
      ]
    },
    {
      "cell_type": "code",
      "execution_count": null,
      "metadata": {
        "id": "i-P92GB0HJIV"
      },
      "outputs": [],
      "source": [
        "!pip install folium #ติดตั้ง แพคเกจ folium"
      ]
    },
    {
      "cell_type": "code",
      "source": [
        "import pandas as pd    # pandas ใช้จัดการข้อมูลที่เป็นตาราง\n",
        "import os # os ใช้จัดการกับไฟล์ ว่าอยู่ที่ไหน\n",
        "import folium #เรียกใช้แพคเกจ\n",
        "from folium import plugins # \n",
        "from folium.plugins import MarkerCluster #ติดตั้ง ปลั๊กอิน MakerCluster "
      ],
      "metadata": {
        "id": "Lprr2jUGH6Wi"
      },
      "execution_count": null,
      "outputs": []
    },
    {
      "cell_type": "code",
      "source": [
        "from google.colab import drive      # ชี้ไฟล์ที่อยู่ใน google drive เพื่อเชื่อมต่อไฟล์\n",
        "drive.mount('/content/drive')\n",
        "path =  '/content/drive/My Drive/map' \n",
        "     "
      ],
      "metadata": {
        "id": "rsrUnYKjMDUi"
      },
      "execution_count": null,
      "outputs": []
    },
    {
      "cell_type": "code",
      "source": [
        "# read data from csv file\n",
        "data_file_path = os.path.join(path,'mapperfec.csv')   # ดึงไฟล์จากไดร์ฟที่เราต้องการ\n",
        "df = pd.read_csv(data_file_path)   # อ่านไฟล์ csv\n",
        "df.head(2)\n",
        "     "
      ],
      "metadata": {
        "id": "Z212I1ZVMNZh"
      },
      "execution_count": null,
      "outputs": []
    },
    {
      "cell_type": "code",
      "source": [
        "# create map object\n",
        "m = folium.Map(location=[16.442786, 102.826613], zoom_start=13,tiles = 'openstreetmap') #เริ่มต้น กำหนดพิกัด เปลี่ยนสีแผนที่\n",
        "\n",
        "marker_cluster = MarkerCluster().add_to(m) #เพิ่มฟังก์ชั่นการจัดหลุ่ม\n",
        "     "
      ],
      "metadata": {
        "id": "KiCF1VSuNkZL"
      },
      "execution_count": null,
      "outputs": []
    },
    {
      "cell_type": "code",
      "source": [
        "for index, row in df.iterrows():\n",
        "    popup_html = '<a href=\"{0}\" target=\"_blank\"><img src=\"{1}\" alt=\"{2}\" width=\"150px\"/></a><br/> <br> <b>{3}:</b> <br> {4} <br/><b>{5}: </b> {6} ฿'.format(row['web_project_path'], row['image'], row['prop_type'], 'ชื่อโครงการ ', row['name_th'], 'ราคา ', row['id_price'])\n",
        "    tooltip_html = '<strong>{0}</strong>'.format(row['range_price']) \n",
        "    marker = folium.Marker(location=[row['latitude'], row['longitude']], \n",
        "    popup=folium.Popup(html=popup_html), \n",
        "    tooltip=tooltip_html,icon=folium.Icon(color='blue', icon='home')).add_to(m)\n",
        "    marker.add_to(marker_cluster)"
      ],
      "metadata": {
        "id": "4rv2j8rVOCyK"
      },
      "execution_count": null,
      "outputs": []
    },
    {
      "cell_type": "code",
      "source": [
        "m"
      ],
      "metadata": {
        "id": "vE13GZWZlB0F"
      },
      "execution_count": null,
      "outputs": []
    }
  ]
}
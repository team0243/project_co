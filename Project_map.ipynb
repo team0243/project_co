{
  "nbformat": 4,
  "nbformat_minor": 0,
  "metadata": {
    "colab": {
      "private_outputs": true,
      "provenance": [],
      "authorship_tag": "ABX9TyN7dfuxrItzwxzghO4DolBh",
      "include_colab_link": true
    },
    "kernelspec": {
      "name": "python3",
      "display_name": "Python 3"
    },
    "language_info": {
      "name": "python"
    }
  },
  "cells": [
    {
      "cell_type": "markdown",
      "metadata": {
        "id": "view-in-github",
        "colab_type": "text"
      },
      "source": [
        "<a href=\"https://colab.research.google.com/github/team0243/project_co/blob/main/Project_map.ipynb\" target=\"_parent\"><img src=\"https://colab.research.google.com/assets/colab-badge.svg\" alt=\"Open In Colab\"/></a>"
      ]
    },
    {
      "cell_type": "code",
      "execution_count": null,
      "metadata": {
        "id": "i-P92GB0HJIV"
      },
      "outputs": [],
      "source": [
        "!pip install folium #ติดตั้ง แพคเกจ folium"
      ]
    },
    {
      "cell_type": "code",
      "source": [
        "import pandas as pd    # pandas ใช้จัดการข้อมูลที่เป็นตาราง\n",
        "import os # os ใช้จัดการกับไฟล์ ว่าอยู่ที่ไหน\n",
        "import folium #เรียกใช้แพคเกจ\n",
        "from folium import plugins # \n",
        "from folium.plugins import MarkerCluster #ติดตั้ง ปลั๊กอิน MakerCluster "
      ],
      "metadata": {
        "id": "Lprr2jUGH6Wi"
      },
      "execution_count": null,
      "outputs": []
    },
    {
      "cell_type": "code",
      "source": [
        "from google.colab import drive      # ชี้ไฟล์ที่อยู่ใน google drive \n",
        "drive.mount('/content/drive')       # เพื่อเชื่อมต่อกับไฟล์\n",
        "path =  '/content/drive/My Drive/map' \n",
        "     "
      ],
      "metadata": {
        "id": "rsrUnYKjMDUi"
      },
      "execution_count": null,
      "outputs": []
    },
    {
      "cell_type": "code",
      "source": [
        "# read data from csv file\n",
        "data_file_path = os.path.join(path,'mapperfec.csv')   # ดึงไฟล์จากไดร์ฟที่เราต้องการ\n",
        "df = pd.read_csv(data_file_path)   # อ่านไฟล์ csv\n",
        "df.head(2)\n",
        "     "
      ],
      "metadata": {
        "id": "Z212I1ZVMNZh"
      },
      "execution_count": null,
      "outputs": []
    },
    {
      "cell_type": "code",
      "source": [
        "# create map object\n",
        "m = folium.Map(location=[16.442786, 102.826613], zoom_start=13,tiles = 'openstreetmap') #เริ่มต้น กำหนดพิกัด เปลี่ยนสีแผนที่\n",
        "\n",
        "marker_cluster = MarkerCluster().add_to(m) #เพิ่มฟังก์ชั่นการจัดกลุ่ม\n",
        "     "
      ],
      "metadata": {
        "id": "KiCF1VSuNkZL"
      },
      "execution_count": null,
      "outputs": []
    },
    {
      "cell_type": "code",
      "source": [
        "for index, row in df.iterrows(): \n",
        "    popup_html = '<frameset cols=\"80%,*\"><a href=\"{0}\" target=\"_blank\"><img src=\"{1}\" alt=\"{2}\" width=\"200px\" /></a><br /><b>{3} <font size=\"3\"> {4} </font> <br />{5} <font size=\"2\"> <font color=\"#47ABE1\"> ฿ {6} </font> </font> <br />{7}<a href=\"{8}\" target=\"_blank\"><font color=\"#001D3D\"> ดูเพิ่มเติม </font></a></b> </frameset>'.format(row['web_project_path'], row['image'], row['name_th'], '',row['name_th'], ' ', row['id_price'],' ', row['web_project_path']) \n",
        "    tooltip_html= '<strong>{0}<br />{1}<br />{2}</strong>'.format(row['prop_type'],row['range_price'],row['zone_name']) \n",
        "    marker = folium.Marker(location=[row['latitude'], row['longitude']],\n",
        "    popup = folium.Popup(html=popup_html),\n",
        "    tooltip = tooltip_html,icon=folium.Icon(color='blue', icon='home')).add_to(m)\n",
        "    marker.add_to(marker_cluster)"
      ],
      "metadata": {
        "id": "4saAL0Dx_nJT"
      },
      "execution_count": null,
      "outputs": []
    },
    {
      "cell_type": "code",
      "source": [
        "m"
      ],
      "metadata": {
        "id": "vE13GZWZlB0F"
      },
      "execution_count": null,
      "outputs": []
    }
  ]
}